{
 "cells": [
  {
   "cell_type": "code",
   "execution_count": null,
   "id": "molecular-prairie",
   "metadata": {},
   "outputs": [],
   "source": [
    "import xarray as xr\n",
    "import s3fs\n",
    "import matplotlib.pyplot as plt\n",
    "from dask.distributed import Client\n",
    "from tqdm import tqdm\n",
    "import json\n",
    "import fsspec\n",
    "from fsspec_reference_maker.hdf import SingleHdf5ToZarr\n",
    "from fsspec_reference_maker.combine import MultiZarrToZarr\n",
    "from glob import glob\n",
    "import numpy as np"
   ]
  },
  {
   "cell_type": "code",
   "execution_count": null,
   "id": "supported-breeding",
   "metadata": {},
   "outputs": [],
   "source": [
    "mz = MultiZarrToZarr(\n",
    "    \"zip://jsons/*.json::week_00.zip\",\n",
    "    remote_protocol='s3',\n",
    "    remote_options={'anon':True},\n",
    "    xarray_kwargs={\n",
    "        'decode_cf' : False,\n",
    "        'mask_and_scale' : False,\n",
    "        'decode_times' : False,\n",
    "        'decode_timedelta' : False,\n",
    "        'use_cftime' : False,\n",
    "        'decode_coords' : False\n",
    "    },\n",
    "    with_mf='t'\n",
    ")"
   ]
  },
  {
   "cell_type": "code",
   "execution_count": null,
   "id": "ruled-institute",
   "metadata": {},
   "outputs": [],
   "source": [
    "mz.translate(\"combined.json\")"
   ]
  },
  {
   "cell_type": "code",
   "execution_count": null,
   "id": "determined-image",
   "metadata": {},
   "outputs": [],
   "source": []
  }
 ],
 "metadata": {
  "kernelspec": {
   "display_name": "Python [conda env:notebook] *",
   "language": "python",
   "name": "conda-env-notebook-py"
  },
  "language_info": {
   "codemirror_mode": {
    "name": "ipython",
    "version": 3
   },
   "file_extension": ".py",
   "mimetype": "text/x-python",
   "name": "python",
   "nbconvert_exporter": "python",
   "pygments_lexer": "ipython3",
   "version": "3.8.6"
  }
 },
 "nbformat": 4,
 "nbformat_minor": 5
}
